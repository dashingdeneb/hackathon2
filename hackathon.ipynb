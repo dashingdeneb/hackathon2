{
 "cells": [
  {
   "cell_type": "code",
   "execution_count": 1,
   "id": "b9969ce2-72fa-46e9-bb72-320d543b6732",
   "metadata": {},
   "outputs": [],
   "source": [
    "import xgboost as xgb"
   ]
  },
  {
   "cell_type": "code",
   "execution_count": 2,
   "id": "a8cbd0db",
   "metadata": {
    "_cell_guid": "b1076dfc-b9ad-4769-8c92-a6c4dae69d19",
    "_uuid": "8f2839f25d086af736a60e9eeb907d3b93b6e0e5",
    "id": "a8cbd0db",
    "outputId": "77ae9863-7b84-48d6-9cc1-d24f737246c3",
    "papermill": {
     "duration": 2.406058,
     "end_time": "2025-06-04T15:58:19.106134",
     "exception": false,
     "start_time": "2025-06-04T15:58:16.700076",
     "status": "completed"
    },
    "tags": []
   },
   "outputs": [],
   "source": [
    "import pandas as pd\n",
    "import numpy as np\n",
    "from sklearn.model_selection import train_test_split, GridSearchCV, RandomizedSearchCV\n",
    "from sklearn.linear_model import LogisticRegression\n",
    "from sklearn.preprocessing import StandardScaler, LabelEncoder\n",
    "from sklearn.metrics import f1_score, accuracy_score, classification_report, confusion_matrix\n",
    "from sklearn.neighbors import KNeighborsClassifier\n",
    "from sklearn.ensemble import RandomForestClassifier, AdaBoostClassifier\n",
    "from xgboost import XGBClassifier\n",
    "from sklearn.impute import KNNImputer\n",
    "import matplotlib.pyplot as plt\n",
    "import seaborn as sns\n",
    "from scipy.stats import randint, uniform\n",
    "from imblearn.over_sampling import SMOTE\n"
   ]
  },
  {
   "cell_type": "code",
   "execution_count": 3,
   "id": "52fc0999",
   "metadata": {
    "id": "52fc0999",
    "outputId": "a4e7d79a-2777-40b1-8797-8cd4c2cc1960",
    "papermill": {
     "duration": 0.161514,
     "end_time": "2025-06-04T15:58:19.271341",
     "exception": false,
     "start_time": "2025-06-04T15:58:19.109827",
     "status": "completed"
    },
    "tags": []
   },
   "outputs": [
    {
     "name": "stdout",
     "output_type": "stream",
     "text": [
      "Initial dataset shape: (1966, 9)\n"
     ]
    }
   ],
   "source": [
    "#read dataset\n",
    "df = pd.read_csv('Train_Data.csv')\n",
    "print(\"Initial dataset shape:\", df.shape)\n"
   ]
  },
  {
   "cell_type": "code",
   "execution_count": 4,
   "id": "92e3be16",
   "metadata": {
    "id": "92e3be16",
    "outputId": "9ff5dd58-0238-427a-f779-b9170692f10b",
    "papermill": {
     "duration": 0.023701,
     "end_time": "2025-06-04T15:58:19.299357",
     "exception": false,
     "start_time": "2025-06-04T15:58:19.275656",
     "status": "completed"
    },
    "tags": []
   },
   "outputs": [
    {
     "name": "stdout",
     "output_type": "stream",
     "text": [
      "SEQN         12\n",
      "RIAGENDR     18\n",
      "PAQ605       13\n",
      "BMXBMI       18\n",
      "LBXGLU       13\n",
      "DIQ010       18\n",
      "LBXGLT       11\n",
      "LBXIN         9\n",
      "age_group    14\n",
      "dtype: int64\n"
     ]
    }
   ],
   "source": [
    "#calculating missing values\n",
    "print(df.isnull().sum())\n"
   ]
  },
  {
   "cell_type": "code",
   "execution_count": 5,
   "id": "3c77611e-14e8-49ab-b4fe-3c291bdc9d5c",
   "metadata": {},
   "outputs": [],
   "source": [
    "# Drop rows with missing target\n",
    "df = df.dropna(subset=['age_group'])\n",
    "# Drop sequence number column\n",
    "df = df.drop('SEQN', axis=1)\n",
    "\n"
   ]
  },
  {
   "cell_type": "code",
   "execution_count": 6,
   "id": "8646c661",
   "metadata": {
    "id": "8646c661",
    "outputId": "e8d529f6-e30d-42bc-e764-0d8ee3970d09",
    "papermill": {
     "duration": 0.037963,
     "end_time": "2025-06-04T15:58:19.341331",
     "exception": false,
     "start_time": "2025-06-04T15:58:19.303368",
     "status": "completed"
    },
    "tags": []
   },
   "outputs": [
    {
     "data": {
      "text/plain": [
       "RIAGENDR     0\n",
       "PAQ605       0\n",
       "BMXBMI       0\n",
       "LBXGLU       0\n",
       "DIQ010       0\n",
       "LBXGLT       0\n",
       "LBXIN        0\n",
       "age_group    0\n",
       "dtype: int64"
      ]
     },
     "execution_count": 6,
     "metadata": {},
     "output_type": "execute_result"
    }
   ],
   "source": [
    "#simple mean imputation\n",
    "df.fillna(df.median(numeric_only=True), inplace=True)\n",
    "df.isnull().sum()\n"
   ]
  },
  {
   "cell_type": "code",
   "execution_count": 7,
   "id": "c5a6f9fa",
   "metadata": {
    "id": "c5a6f9fa",
    "outputId": "2827d233-9dac-455c-dc21-48c27fff8219",
    "papermill": {
     "duration": 2.652139,
     "end_time": "2025-06-04T15:58:21.997405",
     "exception": false,
     "start_time": "2025-06-04T15:58:19.345266",
     "status": "completed"
    },
    "tags": []
   },
   "outputs": [
    {
     "name": "stdout",
     "output_type": "stream",
     "text": [
      "\n",
      "Accuracy: 0.6240\n",
      "              precision    recall  f1-score   support\n",
      "\n",
      "       Adult       0.87      0.65      0.74       328\n",
      "      Senior       0.22      0.51      0.30        63\n",
      "\n",
      "    accuracy                           0.62       391\n",
      "   macro avg       0.54      0.58      0.52       391\n",
      "weighted avg       0.77      0.62      0.67       391\n",
      "\n",
      "Confusion Matrix:\n",
      " [[212 116]\n",
      " [ 31  32]]\n"
     ]
    }
   ],
   "source": [
    "# Encode age_group column \n",
    "label_encoder = LabelEncoder()\n",
    "df['age_group'] = label_encoder.fit_transform(df['age_group'])\n",
    "\n",
    "# Split into features and target\n",
    "X = df.drop(columns=['age_group'])\n",
    "y = df['age_group']\n",
    "\n",
    "# Train-test split\n",
    "X_train, X_test, y_train, y_test = train_test_split(X, y, test_size=0.2, random_state=42, stratify=y)\n",
    "\n",
    "#SMOTE\n",
    "smote = SMOTE(random_state=42)\n",
    "X_train_bal, y_train_bal = smote.fit_resample(X_train, y_train)\n",
    "\n",
    "# XGBOOST \n",
    "# ============================================\n",
    "model = XGBClassifier(use_label_encoder=False, eval_metric='logloss', n_estimators=127)\n",
    "model.fit(X_train_bal, y_train_bal)\n",
    "\n",
    "# 10. Evaluate\n",
    "y_pred = model.predict(X_test)\n",
    "\n",
    "accuracy = accuracy_score(y_test, y_pred)\n",
    "print(f\"\\nAccuracy: {accuracy:.4f}\")\n",
    "\n",
    "# Classification report with all original class labels\n",
    "print(classification_report(\n",
    "    y_test,\n",
    "    y_pred,\n",
    "    labels=list(range(len(label_encoder.classes_))),\n",
    "    target_names=label_encoder.classes_\n",
    "))\n",
    "print(\"Confusion Matrix:\\n\", confusion_matrix(y_test, y_pred))\n",
    "# ====================================================\n",
    "\n",
    "# RANDOM FOREST\n",
    "# ============================================\n",
    "# model = RandomForestClassifier(class_weight=\"balanced\", random_state=42)\n",
    "\n",
    "# model.fit(X_train_bal, y_train_bal)\n",
    "\n",
    "# # Predict on test set\n",
    "# y_pred = model.predict(X_test)\n",
    "\n",
    "# accuracy = accuracy_score(y_test, y_pred)\n",
    "# print(f\"\\nAccuracy: {accuracy:.4f}\")\n",
    "\n",
    "# # Classification report with all original class labels\n",
    "# print(classification_report(\n",
    "#     y_test,\n",
    "#     y_pred,\n",
    "#     labels=list(range(len(label_encoder.classes_))),\n",
    "#     target_names=label_encoder.classes_\n",
    "# ))\n",
    "# print(\"Confusion Matrix:\\n\", confusion_matrix(y_test, y_pred))\n",
    "# ====================================================\n",
    "\n",
    "\n",
    "\n",
    "\n",
    "# KNC\n",
    "# ====================================================\n",
    "# model = KNeighborsClassifier(n_neighbors=5)\n",
    "\n",
    "# model.fit(X_train_bal, y_train_bal)\n",
    "\n",
    "# # Predict on test set\n",
    "# y_pred = model.predict(X_test)\n",
    "\n",
    "# accuracy = accuracy_score(y_test, y_pred)\n",
    "# print(f\"\\nAccuracy: {accuracy:.4f}\")\n",
    "\n",
    "# # Classification report with all original class labels\n",
    "# print(classification_report(\n",
    "#     y_test,\n",
    "#     y_pred,\n",
    "#     labels=list(range(len(label_encoder.classes_))),\n",
    "#     target_names=label_encoder.classes_\n",
    "# ))\n",
    "# print(\"Confusion Matrix:\\n\", confusion_matrix(y_test, y_pred))\n",
    "# ===================================\n"
   ]
  },
  {
   "cell_type": "code",
   "execution_count": 8,
   "id": "ff1cd1b8",
   "metadata": {
    "id": "ff1cd1b8",
    "outputId": "a8d7b384-01d5-42d4-8634-b73261c7954f",
    "papermill": {
     "duration": 0.068872,
     "end_time": "2025-06-04T15:58:22.072964",
     "exception": false,
     "start_time": "2025-06-04T15:58:22.004092",
     "status": "completed"
    },
    "tags": []
   },
   "outputs": [
    {
     "data": {
      "text/html": [
       "<div>\n",
       "<style scoped>\n",
       "    .dataframe tbody tr th:only-of-type {\n",
       "        vertical-align: middle;\n",
       "    }\n",
       "\n",
       "    .dataframe tbody tr th {\n",
       "        vertical-align: top;\n",
       "    }\n",
       "\n",
       "    .dataframe thead th {\n",
       "        text-align: right;\n",
       "    }\n",
       "</style>\n",
       "<table border=\"1\" class=\"dataframe\">\n",
       "  <thead>\n",
       "    <tr style=\"text-align: right;\">\n",
       "      <th></th>\n",
       "      <th>SEQN</th>\n",
       "      <th>RIAGENDR</th>\n",
       "      <th>PAQ605</th>\n",
       "      <th>BMXBMI</th>\n",
       "      <th>LBXGLU</th>\n",
       "      <th>DIQ010</th>\n",
       "      <th>LBXGLT</th>\n",
       "      <th>LBXIN</th>\n",
       "    </tr>\n",
       "  </thead>\n",
       "  <tbody>\n",
       "    <tr>\n",
       "      <th>0</th>\n",
       "      <td>77017.0</td>\n",
       "      <td>1.0</td>\n",
       "      <td>1.0</td>\n",
       "      <td>32.2</td>\n",
       "      <td>96.0</td>\n",
       "      <td>2.0</td>\n",
       "      <td>135.0</td>\n",
       "      <td>15.11</td>\n",
       "    </tr>\n",
       "    <tr>\n",
       "      <th>1</th>\n",
       "      <td>75580.0</td>\n",
       "      <td>2.0</td>\n",
       "      <td>2.0</td>\n",
       "      <td>26.3</td>\n",
       "      <td>100.0</td>\n",
       "      <td>2.0</td>\n",
       "      <td>141.0</td>\n",
       "      <td>15.26</td>\n",
       "    </tr>\n",
       "    <tr>\n",
       "      <th>2</th>\n",
       "      <td>73820.0</td>\n",
       "      <td>1.0</td>\n",
       "      <td>2.0</td>\n",
       "      <td>28.6</td>\n",
       "      <td>107.0</td>\n",
       "      <td>2.0</td>\n",
       "      <td>136.0</td>\n",
       "      <td>8.82</td>\n",
       "    </tr>\n",
       "    <tr>\n",
       "      <th>3</th>\n",
       "      <td>80489.0</td>\n",
       "      <td>2.0</td>\n",
       "      <td>1.0</td>\n",
       "      <td>22.1</td>\n",
       "      <td>93.0</td>\n",
       "      <td>2.0</td>\n",
       "      <td>111.0</td>\n",
       "      <td>12.13</td>\n",
       "    </tr>\n",
       "    <tr>\n",
       "      <th>4</th>\n",
       "      <td>82047.0</td>\n",
       "      <td>1.0</td>\n",
       "      <td>1.0</td>\n",
       "      <td>24.7</td>\n",
       "      <td>91.0</td>\n",
       "      <td>2.0</td>\n",
       "      <td>105.0</td>\n",
       "      <td>3.12</td>\n",
       "    </tr>\n",
       "  </tbody>\n",
       "</table>\n",
       "</div>"
      ],
      "text/plain": [
       "      SEQN  RIAGENDR  PAQ605  BMXBMI  LBXGLU  DIQ010  LBXGLT  LBXIN\n",
       "0  77017.0       1.0     1.0    32.2    96.0     2.0   135.0  15.11\n",
       "1  75580.0       2.0     2.0    26.3   100.0     2.0   141.0  15.26\n",
       "2  73820.0       1.0     2.0    28.6   107.0     2.0   136.0   8.82\n",
       "3  80489.0       2.0     1.0    22.1    93.0     2.0   111.0  12.13\n",
       "4  82047.0       1.0     1.0    24.7    91.0     2.0   105.0   3.12"
      ]
     },
     "execution_count": 8,
     "metadata": {},
     "output_type": "execute_result"
    }
   ],
   "source": [
    "#read test data\n",
    "test_data = pd.read_csv(\"Test_Data.csv\")\n",
    "test_data.head()"
   ]
  },
  {
   "cell_type": "code",
   "execution_count": 9,
   "id": "ac73a96b",
   "metadata": {
    "id": "ac73a96b",
    "papermill": {
     "duration": 0.013382,
     "end_time": "2025-06-04T15:58:22.091265",
     "exception": false,
     "start_time": "2025-06-04T15:58:22.077883",
     "status": "completed"
    },
    "tags": []
   },
   "outputs": [
    {
     "data": {
      "text/plain": [
       "RIAGENDR    0\n",
       "PAQ605      0\n",
       "BMXBMI      0\n",
       "LBXGLU      0\n",
       "DIQ010      0\n",
       "LBXGLT      0\n",
       "LBXIN       0\n",
       "dtype: int64"
      ]
     },
     "execution_count": 9,
     "metadata": {},
     "output_type": "execute_result"
    }
   ],
   "source": [
    "# Drop sequence number column\n",
    "test_data = test_data.drop('SEQN', axis=1)\n",
    "# Fill Missing values\n",
    "test_data.fillna(df.median(numeric_only=True), inplace=True)\n",
    "test_data.isnull().sum()"
   ]
  },
  {
   "cell_type": "code",
   "execution_count": 10,
   "id": "e65b77a4",
   "metadata": {
    "id": "e65b77a4",
    "papermill": {
     "duration": 0.013618,
     "end_time": "2025-06-04T15:58:22.109275",
     "exception": false,
     "start_time": "2025-06-04T15:58:22.095657",
     "status": "completed"
    },
    "tags": []
   },
   "outputs": [],
   "source": [
    "# Evaluate\n",
    "y_test = model.predict(test_data)\n"
   ]
  },
  {
   "cell_type": "code",
   "execution_count": 11,
   "id": "44be4c4c",
   "metadata": {
    "id": "44be4c4c",
    "outputId": "388a4a05-b7ba-4afb-811d-eba211372c4c",
    "papermill": {
     "duration": 0.01289,
     "end_time": "2025-06-04T15:58:22.126324",
     "exception": false,
     "start_time": "2025-06-04T15:58:22.113434",
     "status": "completed"
    },
    "tags": []
   },
   "outputs": [
    {
     "data": {
      "text/plain": [
       "array([1, 0, 1, 0, 1, 1, 0, 1, 0, 1, 1, 0, 0, 1, 1, 0, 1, 0, 0, 0, 1, 0,\n",
       "       1, 1, 0, 0, 0, 0, 0, 0, 0, 1, 0, 1, 0, 0, 0, 0, 1, 0, 0, 1, 0, 0,\n",
       "       0, 1, 0, 1, 0, 1, 1, 0, 0, 0, 0, 1, 0, 0, 1, 1, 0, 1, 0, 0, 1, 0,\n",
       "       0, 1, 1, 0, 0, 0, 0, 0, 0, 0, 1, 0, 0, 0, 0, 0, 0, 0, 1, 0, 1, 1,\n",
       "       0, 1, 0, 0, 0, 0, 0, 1, 0, 1, 0, 0, 0, 0, 0, 0, 0, 0, 0, 0, 0, 0,\n",
       "       0, 0, 0, 0, 0, 0, 0, 1, 1, 0, 0, 0, 0, 0, 1, 1, 1, 0, 1, 1, 0, 0,\n",
       "       1, 1, 1, 0, 0, 1, 0, 0, 1, 1, 1, 0, 1, 0, 0, 1, 0, 1, 0, 0, 1, 1,\n",
       "       0, 0, 1, 0, 0, 1, 0, 1, 1, 1, 1, 1, 1, 0, 1, 0, 0, 0, 1, 0, 0, 0,\n",
       "       0, 0, 0, 0, 1, 1, 1, 1, 0, 0, 0, 1, 1, 0, 1, 0, 0, 1, 1, 1, 1, 0,\n",
       "       0, 1, 0, 0, 1, 0, 0, 0, 0, 1, 0, 0, 0, 1, 1, 0, 0, 0, 0, 1, 0, 0,\n",
       "       0, 1, 1, 0, 1, 0, 1, 0, 0, 1, 0, 0, 0, 1, 1, 0, 1, 0, 1, 0, 0, 0,\n",
       "       0, 1, 1, 1, 0, 0, 0, 1, 0, 0, 0, 0, 0, 0, 0, 0, 0, 0, 1, 0, 0, 1,\n",
       "       0, 0, 0, 0, 0, 1, 1, 1, 0, 1, 0, 0, 1, 1, 0, 0, 0, 0, 0, 0, 0, 0,\n",
       "       0, 1, 1, 0, 1, 1, 0, 1, 0, 0, 0, 1, 0, 0, 1, 0, 1, 1, 0, 0, 1, 0,\n",
       "       0, 0, 1, 1])"
      ]
     },
     "execution_count": 11,
     "metadata": {},
     "output_type": "execute_result"
    }
   ],
   "source": [
    "y_test\n"
   ]
  },
  {
   "cell_type": "code",
   "execution_count": 12,
   "id": "e10db231",
   "metadata": {
    "id": "e10db231",
    "papermill": {
     "duration": 0.012481,
     "end_time": "2025-06-04T15:58:22.160251",
     "exception": false,
     "start_time": "2025-06-04T15:58:22.147770",
     "status": "completed"
    },
    "tags": []
   },
   "outputs": [],
   "source": [
    "# Export results\n",
    "result = pd.DataFrame({\n",
    "    'age_group': y_test\n",
    "})"
   ]
  },
  {
   "cell_type": "code",
   "execution_count": 13,
   "id": "9906b67f",
   "metadata": {
    "id": "9906b67f",
    "outputId": "6d819f6c-cbcf-409a-8d94-c12f8412c5e0",
    "papermill": {
     "duration": 0.01673,
     "end_time": "2025-06-04T15:58:22.181310",
     "exception": false,
     "start_time": "2025-06-04T15:58:22.164580",
     "status": "completed"
    },
    "scrolled": true,
    "tags": []
   },
   "outputs": [
    {
     "data": {
      "text/html": [
       "<div>\n",
       "<style scoped>\n",
       "    .dataframe tbody tr th:only-of-type {\n",
       "        vertical-align: middle;\n",
       "    }\n",
       "\n",
       "    .dataframe tbody tr th {\n",
       "        vertical-align: top;\n",
       "    }\n",
       "\n",
       "    .dataframe thead th {\n",
       "        text-align: right;\n",
       "    }\n",
       "</style>\n",
       "<table border=\"1\" class=\"dataframe\">\n",
       "  <thead>\n",
       "    <tr style=\"text-align: right;\">\n",
       "      <th></th>\n",
       "      <th>age_group</th>\n",
       "    </tr>\n",
       "  </thead>\n",
       "  <tbody>\n",
       "    <tr>\n",
       "      <th>0</th>\n",
       "      <td>1</td>\n",
       "    </tr>\n",
       "    <tr>\n",
       "      <th>1</th>\n",
       "      <td>0</td>\n",
       "    </tr>\n",
       "    <tr>\n",
       "      <th>2</th>\n",
       "      <td>1</td>\n",
       "    </tr>\n",
       "    <tr>\n",
       "      <th>3</th>\n",
       "      <td>0</td>\n",
       "    </tr>\n",
       "    <tr>\n",
       "      <th>4</th>\n",
       "      <td>1</td>\n",
       "    </tr>\n",
       "    <tr>\n",
       "      <th>...</th>\n",
       "      <td>...</td>\n",
       "    </tr>\n",
       "    <tr>\n",
       "      <th>307</th>\n",
       "      <td>0</td>\n",
       "    </tr>\n",
       "    <tr>\n",
       "      <th>308</th>\n",
       "      <td>0</td>\n",
       "    </tr>\n",
       "    <tr>\n",
       "      <th>309</th>\n",
       "      <td>0</td>\n",
       "    </tr>\n",
       "    <tr>\n",
       "      <th>310</th>\n",
       "      <td>1</td>\n",
       "    </tr>\n",
       "    <tr>\n",
       "      <th>311</th>\n",
       "      <td>1</td>\n",
       "    </tr>\n",
       "  </tbody>\n",
       "</table>\n",
       "<p>312 rows × 1 columns</p>\n",
       "</div>"
      ],
      "text/plain": [
       "     age_group\n",
       "0            1\n",
       "1            0\n",
       "2            1\n",
       "3            0\n",
       "4            1\n",
       "..         ...\n",
       "307          0\n",
       "308          0\n",
       "309          0\n",
       "310          1\n",
       "311          1\n",
       "\n",
       "[312 rows x 1 columns]"
      ]
     },
     "execution_count": 13,
     "metadata": {},
     "output_type": "execute_result"
    }
   ],
   "source": [
    "result"
   ]
  },
  {
   "cell_type": "code",
   "execution_count": 14,
   "id": "484c74df",
   "metadata": {
    "id": "484c74df",
    "papermill": {
     "duration": 0.020066,
     "end_time": "2025-06-04T15:58:22.206173",
     "exception": false,
     "start_time": "2025-06-04T15:58:22.186107",
     "status": "completed"
    },
    "tags": []
   },
   "outputs": [],
   "source": [
    "result.to_csv(\"xg.csv\", index=False)"
   ]
  },
  {
   "cell_type": "code",
   "execution_count": null,
   "id": "60bc6119",
   "metadata": {
    "id": "60bc6119",
    "papermill": {
     "duration": 0.004107,
     "end_time": "2025-06-04T15:58:22.214773",
     "exception": false,
     "start_time": "2025-06-04T15:58:22.210666",
     "status": "completed"
    },
    "tags": []
   },
   "outputs": [],
   "source": []
  }
 ],
 "metadata": {
  "colab": {
   "provenance": []
  },
  "kaggle": {
   "accelerator": "none",
   "dataSources": [
    {
     "databundleVersionId": 12585144,
     "sourceId": 104491,
     "sourceType": "competition"
    }
   ],
   "dockerImageVersionId": 31040,
   "isGpuEnabled": false,
   "isInternetEnabled": true,
   "language": "python",
   "sourceType": "notebook"
  },
  "kernelspec": {
   "display_name": "Python [conda env:base] *",
   "language": "python",
   "name": "conda-base-py"
  },
  "language_info": {
   "codemirror_mode": {
    "name": "ipython",
    "version": 3
   },
   "file_extension": ".py",
   "mimetype": "text/x-python",
   "name": "python",
   "nbconvert_exporter": "python",
   "pygments_lexer": "ipython3",
   "version": "3.10.9"
  },
  "papermill": {
   "default_parameters": {},
   "duration": 12.460836,
   "end_time": "2025-06-04T15:58:22.939774",
   "environment_variables": {},
   "exception": null,
   "input_path": "__notebook__.ipynb",
   "output_path": "__notebook__.ipynb",
   "parameters": {},
   "start_time": "2025-06-04T15:58:10.478938",
   "version": "2.6.0"
  }
 },
 "nbformat": 4,
 "nbformat_minor": 5
}
